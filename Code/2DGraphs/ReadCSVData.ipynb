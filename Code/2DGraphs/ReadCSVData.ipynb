{
 "cells": [
  {
   "cell_type": "code",
   "execution_count": 1,
   "metadata": {},
   "outputs": [],
   "source": [
    "import pandas as pd\n",
    "import csv\n",
    "\n",
    "df = pd.read_csv('mn17_005aprh25.mat.csv') "
   ]
  },
  {
   "cell_type": "code",
   "execution_count": 2,
   "metadata": {},
   "outputs": [],
   "source": [
    "import dash\n",
    "import dash_html_components as html\n",
    "import dash_core_components as dcc\n",
    "from dash.dependencies import Input, Output"
   ]
  },
  {
   "cell_type": "code",
   "execution_count": 3,
   "metadata": {},
   "outputs": [],
   "source": [
    "xData = list(range(32, 232))\n",
    "yData = df['Heading'].tolist()[32:232]"
   ]
  },
  {
   "cell_type": "code",
   "execution_count": 4,
   "metadata": {},
   "outputs": [],
   "source": [
    "app = dash.Dash('Dash app whale pitch data')\n",
    "text_style = dict(color='#444', fontFamily='sans-serif', fontWeight=300)"
   ]
  },
  {
   "cell_type": "code",
   "execution_count": 5,
   "metadata": {},
   "outputs": [],
   "source": [
    "Heading_figure = dict(data=[dict(x=xData, y=yData)], name='Heading Over Time', layout=dict(\n",
    "            title='Heading Over Time',\n",
    "            legend=dict(\n",
    "                x=0,\n",
    "                y=1.0\n",
    "            ),\n",
    "            margin=dict(l=40, r=0, t=40, b=30)\n",
    "        ))"
   ]
  },
  {
   "cell_type": "code",
   "execution_count": 6,
   "metadata": {},
   "outputs": [],
   "source": [
    "PitchRoll = dict(\n",
    "        data=[\n",
    "            dict(\n",
    "                x=xData,\n",
    "                y=df['Pitch'].tolist()[32:232],\n",
    "                name='Pitch',\n",
    "                marker=dict(\n",
    "                    color='rgb(55, 83, 109)'\n",
    "                )\n",
    "            ),\n",
    "            dict(\n",
    "                x=xData,\n",
    "                y=df['Roll'].tolist()[32:232],\n",
    "                name='Roll',\n",
    "                marker=dict(\n",
    "                    color='rgb(26, 118, 255)'\n",
    "                )\n",
    "            )\n",
    "        ],\n",
    "        layout=dict(\n",
    "            title='Pitch & Roll Over Time',\n",
    "            showlegend=True,\n",
    "            legend=dict(\n",
    "                x=0,\n",
    "                y=1.0\n",
    "            ),\n",
    "            margin=dict(l=40, r=0, t=40, b=30)\n",
    "        )\n",
    "    )"
   ]
  },
  {
   "cell_type": "code",
   "execution_count": 7,
   "metadata": {},
   "outputs": [],
   "source": [
    "XAcc_figure = dict(data=[dict(x=xData, y=df['Accel_X'].tolist()[32:232])], name='Acceleration in the X Direction', layout=dict(\n",
    "            title='Acceleration in the X Direction',\n",
    "            legend=dict(\n",
    "                x=0,\n",
    "                y=1.0\n",
    "            ),\n",
    "            margin=dict(l=40, r=0, t=40, b=30)\n",
    "        ))"
   ]
  },
  {
   "cell_type": "code",
   "execution_count": 8,
   "metadata": {},
   "outputs": [],
   "source": [
    "YAcc_figure = dict(data=[dict(x=xData, y=df['Accel_Y'].tolist()[32:232])], name='Acceleration in the Y Direction', layout=dict(\n",
    "            title='Acceleration in the Y Direction',\n",
    "            legend=dict(\n",
    "                x=0,\n",
    "                y=1.0\n",
    "            ),\n",
    "            margin=dict(l=40, r=0, t=40, b=30)\n",
    "        ))"
   ]
  },
  {
   "cell_type": "code",
   "execution_count": 9,
   "metadata": {},
   "outputs": [],
   "source": [
    "ZAcc_figure = dict(data=[dict(x=xData, y=df['Accel_Z'].tolist()[32:232])], name='Acceleration in the Z Direction', layout=dict(\n",
    "            title='Acceleration in the Z Direction',\n",
    "            legend=dict(\n",
    "                x=0,\n",
    "                y=1.0\n",
    "            ),\n",
    "            margin=dict(l=40, r=0, t=40, b=30)\n",
    "        ))"
   ]
  },
  {
   "cell_type": "code",
   "execution_count": 10,
   "metadata": {},
   "outputs": [],
   "source": [
    "app.layout = html.Div([ \n",
    "        html.H2('2-Dimensional Data', style=text_style),\n",
    "        html.P('Pick the axes for the visualization.', style=text_style),\n",
    "        dcc.Dropdown(\n",
    "    options=[\n",
    "        {'label': 'M', 'value': 'M'},\n",
    "        {'label': 'Mw', 'value': 'Mw'},\n",
    "        {'label': 'p', 'value': 'p'},\n",
    "        {'label': 'pitch', 'value': 'pitch'},\n",
    "        {'label': 'roll', 'value': 'roll'},\n",
    "        {'label': 'T', 'value': 't'}\n",
    "    ],\n",
    "    value='X'\n",
    "),\n",
    "        dcc.Dropdown(\n",
    "    options=[\n",
    "        {'label': 'M', 'value': 'M'},\n",
    "        {'label': 'Mw', 'value': 'Mw'},\n",
    "        {'label': 'p', 'value': 'p'},\n",
    "        {'label': 'pitch', 'value': 'pitch'},\n",
    "        {'label': 'roll', 'value': 'roll'},\n",
    "        {'label': 'T', 'value': 't'}\n",
    "    ],\n",
    "    value='X'\n",
    "),\n",
    "        dcc.Input(id='text1', placeholder='box', value=''),\n",
    "        dcc.Graph(id='plot1', figure=Heading_figure),\n",
    "        dcc.Graph(\n",
    "    figure= PitchRoll,\n",
    "    style={'height': 300},\n",
    "    id='my-graph'\n",
    "),\n",
    "        dcc.Graph(\n",
    "    figure= XAcc_figure,\n",
    "    style={'height': 300},\n",
    "    id='x-accel'\n",
    "),\n",
    "        dcc.Graph(\n",
    "    figure= YAcc_figure,\n",
    "    style={'height': 300},\n",
    "    id='y-accel'\n",
    "),\n",
    "        dcc.Graph(\n",
    "    figure= ZAcc_figure,\n",
    "    style={'height': 300},\n",
    "    id='Z-accel'\n",
    ")  \n",
    "    ])"
   ]
  },
  {
   "cell_type": "code",
   "execution_count": 11,
   "metadata": {},
   "outputs": [],
   "source": [
    "@app.callback(Output('plot1', 'figure'), [Input('X', 'value')] )\n",
    "def text_callback( text_input ):\n",
    "    return {'data': [dict(x, y, type=text_input)]}"
   ]
  },
  {
   "cell_type": "code",
   "execution_count": null,
   "metadata": {},
   "outputs": [
    {
     "name": "stdout",
     "output_type": "stream",
     "text": [
      " * Serving Flask app \"Dash app whale pitch data\" (lazy loading)\n",
      " * Environment: production\n",
      "\u001b[31m   WARNING: This is a development server. Do not use it in a production deployment.\u001b[0m\n",
      "\u001b[2m   Use a production WSGI server instead.\u001b[0m\n",
      " * Debug mode: off\n"
     ]
    },
    {
     "name": "stderr",
     "output_type": "stream",
     "text": [
      " * Running on http://127.0.0.1:5000/ (Press CTRL+C to quit)\n",
      "127.0.0.1 - - [21/Oct/2020 15:10:30] \"\u001b[37mGET / HTTP/1.1\u001b[0m\" 200 -\n",
      "127.0.0.1 - - [21/Oct/2020 15:10:31] \"\u001b[37mGET /_dash-dependencies HTTP/1.1\u001b[0m\" 200 -\n",
      "127.0.0.1 - - [21/Oct/2020 15:10:31] \"\u001b[37mGET /_dash-layout HTTP/1.1\u001b[0m\" 200 -\n",
      "127.0.0.1 - - [21/Oct/2020 15:11:28] \"\u001b[37mGET / HTTP/1.1\u001b[0m\" 200 -\n",
      "127.0.0.1 - - [21/Oct/2020 15:11:29] \"\u001b[37mGET /_dash-dependencies HTTP/1.1\u001b[0m\" 200 -\n",
      "127.0.0.1 - - [21/Oct/2020 15:11:29] \"\u001b[37mGET /_dash-layout HTTP/1.1\u001b[0m\" 200 -\n"
     ]
    }
   ],
   "source": [
    "app.server.run()"
   ]
  },
  {
   "cell_type": "code",
   "execution_count": null,
   "metadata": {},
   "outputs": [],
   "source": []
  }
 ],
 "metadata": {
  "kernelspec": {
   "display_name": "Python 3",
   "language": "python",
   "name": "python3"
  },
  "language_info": {
   "codemirror_mode": {
    "name": "ipython",
    "version": 3
   },
   "file_extension": ".py",
   "mimetype": "text/x-python",
   "name": "python",
   "nbconvert_exporter": "python",
   "pygments_lexer": "ipython3",
   "version": "3.8.4"
  }
 },
 "nbformat": 4,
 "nbformat_minor": 4
}
