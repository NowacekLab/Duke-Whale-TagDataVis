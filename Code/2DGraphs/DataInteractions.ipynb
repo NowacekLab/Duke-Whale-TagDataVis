{
 "cells": [
  {
   "cell_type": "code",
   "execution_count": 1,
   "metadata": {},
   "outputs": [],
   "source": [
    "from plotly.subplots import make_subplots\n",
    "import plotly.graph_objects as go\n",
    "import pandas as pd\n",
    "import csv"
   ]
  },
  {
   "cell_type": "code",
   "execution_count": null,
   "metadata": {},
   "outputs": [],
   "source": [
    "df = pd.read_csv('mn17_005aprh25.mat.csv') "
   ]
  },
  {
   "cell_type": "code",
   "execution_count": null,
   "metadata": {},
   "outputs": [],
   "source": [
    "startIndex = 32\n",
    "endIndex = len(df)"
   ]
  },
  {
   "cell_type": "code",
   "execution_count": null,
   "metadata": {},
   "outputs": [],
   "source": [
    "xAxis = list(range(startIndex, endIndex))\n",
    "for i in range(len(xAxis)):\n",
    "    xAxis[i] = xAxis[i]*(50/3600)"
   ]
  },
  {
   "cell_type": "code",
   "execution_count": null,
   "metadata": {},
   "outputs": [],
   "source": [
    "pitchData = df.Pitch[startIndex:endIndex]\n",
    "rollData = df.Roll[startIndex:endIndex]"
   ]
  },
  {
   "cell_type": "code",
   "execution_count": null,
   "metadata": {},
   "outputs": [],
   "source": [
    "xAccelerationData = df[\"Accel_X\"][startIndex:endIndex]\n",
    "yAccelerationData = df[\"Accel_Y\"][startIndex:endIndex]\n",
    "zAccelerationData = df[\"Accel_Z\"][startIndex:endIndex]"
   ]
  },
  {
   "cell_type": "code",
   "execution_count": null,
   "metadata": {},
   "outputs": [],
   "source": [
    "dataplots = make_subplots(rows=2, cols=2, \n",
    "                      subplot_titles=(\"Pitch vs. Roll\", \"X vs Y Acceleration\", \"Y vs Z Acceleration\", \"X vs Z Acceleration\"))"
   ]
  },
  {
   "cell_type": "code",
   "execution_count": null,
   "metadata": {},
   "outputs": [],
   "source": [
    "dataplots.add_trace(\n",
    "    go.Scatter(x=pitchData, y=rollData, name = \"pitch vs. roll\"),\n",
    "    row=1, col=1\n",
    ")"
   ]
  },
  {
   "cell_type": "code",
   "execution_count": null,
   "metadata": {},
   "outputs": [],
   "source": [
    "dataplots.add_trace(\n",
    "    go.Scatter(x=xAccelerationData, y=yAccelerationData, name = \"x acceleration vs. y acceleration\"),\n",
    "    row=1, col=2\n",
    ")"
   ]
  },
  {
   "cell_type": "code",
   "execution_count": null,
   "metadata": {},
   "outputs": [],
   "source": [
    "dataplots.add_trace(\n",
    "    go.Scatter(x=yAccelerationData, y=zAccelerationData, name = \"y acceleration vs. z acceleration\"),\n",
    "    row=2, col=1\n",
    ")"
   ]
  },
  {
   "cell_type": "code",
   "execution_count": null,
   "metadata": {},
   "outputs": [],
   "source": [
    "dataplots.add_trace(\n",
    "    go.Scatter(x=xAccelerationData, y=zAccelerationData, name = \"x acceleration vs. z acceleration\"),\n",
    "    row=2, col=2\n",
    ")"
   ]
  },
  {
   "cell_type": "code",
   "execution_count": null,
   "metadata": {},
   "outputs": [],
   "source": [
    "dataplots.update_layout(height = 1500, width=1500, title_text=\"2D Plots\")\n",
    "dataplots.show()"
   ]
  },
  {
   "cell_type": "code",
   "execution_count": null,
   "metadata": {},
   "outputs": [],
   "source": [
    "dataplots.write_html('mixedplots.html', auto_open=True)"
   ]
  }
 ],
 "metadata": {
  "kernelspec": {
   "display_name": "Python 3",
   "language": "python",
   "name": "python3"
  },
  "language_info": {
   "codemirror_mode": {
    "name": "ipython",
    "version": 3
   },
   "file_extension": ".py",
   "mimetype": "text/x-python",
   "name": "python",
   "nbconvert_exporter": "python",
   "pygments_lexer": "ipython3",
   "version": "3.8.4"
  }
 },
 "nbformat": 4,
 "nbformat_minor": 4
}
